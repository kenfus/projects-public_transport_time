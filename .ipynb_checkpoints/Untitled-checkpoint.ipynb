{
 "cells": [
  {
   "cell_type": "code",
   "execution_count": 5,
   "metadata": {},
   "outputs": [
    {
     "name": "stdout",
     "output_type": "stream",
     "text": [
      "When do you have to be at work? 2015-10-20 22:242018-11-22 8:15\n",
      "Where do you work?ETH Zürich\n",
      "    latitude  longitude duration\n",
      "0  47.465965   8.415015     3690\n",
      "1  47.465965   8.421648     4781\n",
      "2  47.465965   8.428281     3428\n",
      "3  47.465965   8.434913     3981\n",
      "4  47.465965   8.441546     3466\n",
      "    latitude  longitude duration\n",
      "0  47.465965   8.415015     3690\n",
      "1  47.465965   8.421648     4781\n",
      "2  47.465965   8.428281     3428\n",
      "3  47.465965   8.434913     3981\n",
      "4  47.465965   8.441546     3466\n"
     ]
    }
   ],
   "source": [
    "%run -i \"./PTbHS.py\""
   ]
  },
  {
   "cell_type": "code",
   "execution_count": 11,
   "metadata": {},
   "outputs": [],
   "source": [
    "fig = gmaps.figure()\n",
    "gmaps.figure(center=(dest_longlat['lat'], dest_longlat['lng']), zoom_level=13)\n",
    "heatmap_layer = gmaps.heatmap_layer(df[['latitude', 'longitude']], weights=df['duration'],max_intensity=30000, point_radius=25)\n",
    "fig.add_layer(heatmap_layer)"
   ]
  },
  {
   "cell_type": "code",
   "execution_count": 12,
   "metadata": {},
   "outputs": [
    {
     "data": {
      "application/vnd.jupyter.widget-view+json": {
       "model_id": "1ac85c6b40514d85ada0a98664d171cc",
       "version_major": 2,
       "version_minor": 0
      },
      "text/plain": [
       "Figure(layout=FigureLayout(height='420px'))"
      ]
     },
     "metadata": {},
     "output_type": "display_data"
    },
    {
     "data": {
      "application/vnd.jupyter.widget-view+json": {
       "model_id": "1ac85c6b40514d85ada0a98664d171cc",
       "version_major": 2,
       "version_minor": 0
      },
      "text/plain": [
       "Figure(layout=FigureLayout(height='420px'))"
      ]
     },
     "metadata": {},
     "output_type": "display_data"
    }
   ],
   "source": [
    "fig"
   ]
  },
  {
   "cell_type": "code",
   "execution_count": null,
   "metadata": {},
   "outputs": [],
   "source": [
    "dfsfdsf\n"
   ]
  }
 ],
 "metadata": {
  "kernelspec": {
   "display_name": "Python 3",
   "language": "python",
   "name": "python3"
  },
  "language_info": {
   "codemirror_mode": {
    "name": "ipython",
    "version": 3
   },
   "file_extension": ".py",
   "mimetype": "text/x-python",
   "name": "python",
   "nbconvert_exporter": "python",
   "pygments_lexer": "ipython3",
   "version": "3.7.0"
  }
 },
 "nbformat": 4,
 "nbformat_minor": 2
}
